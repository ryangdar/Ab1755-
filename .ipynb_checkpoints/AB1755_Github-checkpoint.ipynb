{
 "cells": [
  {
   "cell_type": "code",
   "execution_count": 3,
   "metadata": {
    "ExecuteTime": {
     "end_time": "2020-08-25T02:35:30.761934Z",
     "start_time": "2020-08-25T02:35:30.454132Z"
    }
   },
   "outputs": [],
   "source": [
    "import json\n",
    "import requests\n",
    "import pandas as pd\n",
    "import numpy as np"
   ]
  },
  {
   "cell_type": "code",
   "execution_count": 4,
   "metadata": {
    "ExecuteTime": {
     "end_time": "2020-08-25T02:35:31.224060Z",
     "start_time": "2020-08-25T02:35:31.211556Z"
    }
   },
   "outputs": [],
   "source": [
    "# Use 'from searchData import searchData' in main()\n",
    "# Call by inputing a string\n",
    "# Can change number of 'rows' returned and result offset 'start'\n",
    "def searchData(searchTerm,rows=1000,start=0):\n",
    "\n",
    "    # import json\n",
    "    import requests\n",
    "    import pandas as pd\n",
    "    import numpy as np\n",
    "    import re\n",
    "\n",
    "    # import time\n",
    "    # begin = time.time()\n",
    "\n",
    "    # from ckanapi import RemoteCKAN\n",
    "    # RemoteCKAN('https://data.cnra.ca.gov/')\n",
    "    # test = demo.action.package_search(q = \"spending water\")\n",
    "    # ckan.logic.action.get.package_search() <-- Need to use this?\n",
    "\n",
    "    # Websites we search.\n",
    "    cnraURL = \"https://data.cnra.ca.gov/\"\n",
    "    caOpenDataURL = \"https://data.ca.gov/\"\n",
    "    # Package search: this is what the default search is on both of the above sites.\n",
    "    pkgSearch = \"api/3/action/package_search?q=\"\n",
    "    searchTerm = searchTerm.replace(\" \", \"%20\")\n",
    "    returnSize = \"&rows=\" + str(rows) + \"&start=\" + str(start)\n",
    "\n",
    "    # Make request from API\n",
    "    rCNRA = requests.get(cnraURL + pkgSearch + searchTerm + returnSize)\n",
    "    rCAPortal = requests.get(caOpenDataURL + pkgSearch + searchTerm+ returnSize)\n",
    "\n",
    "    if(rCNRA.status_code !=200 or rCAPortal.status_code !=200):\n",
    "        print(\"There was an error connecting to the sites.\")\n",
    "        return\n",
    "\n",
    "    if(rCNRA.json()['result']['count'] + rCAPortal.json()['result']['count'] == 0):\n",
    "        print(\"No datasets found for: \" + searchTerm)\n",
    "        print(\"Please try another search.\")\n",
    "        return\n",
    "\n",
    "    CNRAdf = pd.DataFrame.from_records(rCNRA.json()['result']['results'])\n",
    "    CNRAdf = CNRAdf.loc[:,['title','name','notes','metadata_created']]\n",
    "    CNRAdf['name'] = cnraURL + \"dataset/\" + CNRAdf['name']\n",
    "\n",
    "    CAPortaldf = pd.DataFrame.from_records(rCAPortal.json()['result']['results'])\n",
    "    CAPortaldf = CAPortaldf.loc[:,['title','name','notes','metadata_created']]\n",
    "    CAPortaldf['name'] = caOpenDataURL + \"dataset/\" + CAPortaldf['name']\n",
    "\n",
    "    # Removing html tags from 'notes' column\n",
    "    # Credit: https://medium.com/@jorlugaqui/how-to-strip-html-tags-from-a-string-in-python-7cb81a2bbf44\n",
    "    clean = re.compile('<.*?>')\n",
    "    for i in range(len(CNRAdf['notes'])):\n",
    "        CNRAdf['notes'][i] = re.sub(clean, '', CNRAdf['notes'][i])\n",
    "        CNRAdf['notes'][i] = CNRAdf['notes'][i].replace(\"\\n\", \" \")\n",
    "        CNRAdf['notes'][i] = CNRAdf['notes'][i].replace(\"\\r\", \" \")\n",
    "    for i in range(len(CAPortaldf['notes'])):\n",
    "        CAPortaldf['notes'][i] = re.sub(clean, '', CAPortaldf['notes'][i])\n",
    "        CAPortaldf['notes'][i] = CAPortaldf['notes'][i].replace(\"\\n\", \" \")\n",
    "        CAPortaldf['notes'][i] = CAPortaldf['notes'][i].replace(\"\\r\", \" \")\n",
    "\n",
    "    # Combine and drop duplicates\n",
    "    combined = pd.concat([CNRAdf, CAPortaldf]).sort_index(kind='merge')\n",
    "    combined.drop_duplicates(['title'],inplace=True)\n",
    "    combined = combined.reset_index()\n",
    "    combined = combined.drop(['index'], axis='columns')\n",
    "\n",
    "    # end = time.time()\n",
    "    # print(str(end-begin))\n",
    "    # This code takes ~5.5s to run for 1000 results from each site\n",
    "\n",
    "return combined"
   ]
  },
  {
   "cell_type": "code",
   "execution_count": 5,
   "metadata": {
    "ExecuteTime": {
     "end_time": "2020-08-25T02:35:34.473211Z",
     "start_time": "2020-08-25T02:35:31.910215Z"
    }
   },
   "outputs": [
    {
     "ename": "ValueError",
     "evalue": "too many values to unpack (expected 2)",
     "output_type": "error",
     "traceback": [
      "\u001b[0;31m---------------------------------------------------------------------------\u001b[0m",
      "\u001b[0;31mValueError\u001b[0m                                Traceback (most recent call last)",
      "\u001b[0;32m<ipython-input-5-d7e42ee3b86e>\u001b[0m in \u001b[0;36m<module>\u001b[0;34m\u001b[0m\n\u001b[0;32m----> 1\u001b[0;31m \u001b[0mok\u001b[0m\u001b[0;34m,\u001b[0m \u001b[0mrun\u001b[0m \u001b[0;34m=\u001b[0m \u001b[0msearchData\u001b[0m\u001b[0;34m(\u001b[0m\u001b[0;34m'Water'\u001b[0m\u001b[0;34m)\u001b[0m\u001b[0;34m\u001b[0m\u001b[0;34m\u001b[0m\u001b[0m\n\u001b[0m\u001b[1;32m      2\u001b[0m \u001b[0mok\u001b[0m\u001b[0;34m.\u001b[0m\u001b[0mto_html\u001b[0m\u001b[0;34m(\u001b[0m\u001b[0;34m\"what.html\"\u001b[0m\u001b[0;34m)\u001b[0m\u001b[0;34m\u001b[0m\u001b[0;34m\u001b[0m\u001b[0m\n",
      "\u001b[0;31mValueError\u001b[0m: too many values to unpack (expected 2)"
     ]
    }
   ],
   "source": [
    "ok, run = searchData('Water')\n",
    "ok.to_html(\"what.html\")"
   ]
  },
  {
   "cell_type": "code",
   "execution_count": null,
   "metadata": {},
   "outputs": [],
   "source": []
  }
 ],
 "metadata": {
  "kernelspec": {
   "display_name": "Python 3",
   "language": "python",
   "name": "python3"
  },
  "language_info": {
   "codemirror_mode": {
    "name": "ipython",
    "version": 3
   },
   "file_extension": ".py",
   "mimetype": "text/x-python",
   "name": "python",
   "nbconvert_exporter": "python",
   "pygments_lexer": "ipython3",
   "version": "3.7.4"
  },
  "toc": {
   "base_numbering": 1,
   "nav_menu": {},
   "number_sections": true,
   "sideBar": true,
   "skip_h1_title": false,
   "title_cell": "Table of Contents",
   "title_sidebar": "Contents",
   "toc_cell": false,
   "toc_position": {},
   "toc_section_display": true,
   "toc_window_display": false
  },
  "varInspector": {
   "cols": {
    "lenName": 16,
    "lenType": 16,
    "lenVar": 40
   },
   "kernels_config": {
    "python": {
     "delete_cmd_postfix": "",
     "delete_cmd_prefix": "del ",
     "library": "var_list.py",
     "varRefreshCmd": "print(var_dic_list())"
    },
    "r": {
     "delete_cmd_postfix": ") ",
     "delete_cmd_prefix": "rm(",
     "library": "var_list.r",
     "varRefreshCmd": "cat(var_dic_list()) "
    }
   },
   "types_to_exclude": [
    "module",
    "function",
    "builtin_function_or_method",
    "instance",
    "_Feature"
   ],
   "window_display": false
  }
 },
 "nbformat": 4,
 "nbformat_minor": 2
}
