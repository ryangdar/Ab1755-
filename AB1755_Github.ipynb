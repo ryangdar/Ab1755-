{
 "cells": [
  {
   "cell_type": "code",
   "execution_count": 4,
   "metadata": {
    "ExecuteTime": {
     "end_time": "2020-08-25T19:33:28.126335Z",
     "start_time": "2020-08-25T19:33:28.123814Z"
    }
   },
   "outputs": [],
   "source": [
    "import json\n",
    "import requests\n",
    "import pandas as pd\n",
    "import numpy as np"
   ]
  },
  {
   "cell_type": "code",
   "execution_count": 39,
   "metadata": {
    "ExecuteTime": {
     "end_time": "2020-08-25T19:56:17.961305Z",
     "start_time": "2020-08-25T19:56:17.948460Z"
    }
   },
   "outputs": [],
   "source": [
    "# Use 'from searchData import searchData' in main()\n",
    "# Call by inputing a string\n",
    "def searchData(searchTerm):\n",
    "\n",
    "    # Websites we search.\n",
    "    cnraURL = \"https://data.cnra.ca.gov/\"\n",
    "    caOpenDataURL = \"https://data.ca.gov/\"\n",
    "    # Package search: this is what the default search is on both of the above sites.\n",
    "    pkgSearch = \"api/3/action/package_search?q=\"\n",
    "\n",
    "    # print(\"Please input a search term: \")\n",
    "    # Need to replace spaces with '+'\n",
    "    # searchTerm = input()\n",
    "    # searchTerm = searchTerm.replace(\" \", \"+\")\n",
    "    # print(searchTerm)\n",
    "    # searchTerm = str(searchTerm)\n",
    "    # Make request from API\n",
    "    rCNRA = requests.get(cnraURL + pkgSearch + searchTerm)\n",
    "    rCAPortal = requests.get(caOpenDataURL + pkgSearch + searchTerm)\n",
    "\n",
    "    if(rCNRA.json()['result']['count'] + rCAPortal.json()['result']['count'] == 0):\n",
    "        print(\"No datasets found for: \" + searchTerm)\n",
    "        print(\"Please try another search.\")\n",
    "        return\n",
    "\n",
    "    maxCNRA = 20 # Want to print 10 or less results.\n",
    "    if(rCNRA.json()['result']['count'] < maxCNRA):\n",
    "        maxCNRA = rCNRA.json()['result']['count']\n",
    "    maxCAData = 20 # Want to print 10 or less results.\n",
    "    if(rCAPortal.json()['result']['count'] < maxCAData):\n",
    "        maxCAData = rCAPortal.json()['result']['count']\n",
    "\n",
    "    # This prints results from data.cnra.ca.gov.\n",
    "    # Prints database's title, URL, description and date it was updated. This is\n",
    "    # what is displayed using search on the actual websites.\n",
    "    CNRAdata = []\n",
    "    for i in range(0, maxCNRA):\n",
    "        temp = []\n",
    "        temp.append(rCNRA.json()['result']['results'][i]['title'])\n",
    "        temp.append(cnraURL + \"dataset/\" + rCNRA.json()['result']['results'][i]['name'])\n",
    "        temp.append(rCNRA.json()['result']['results'][i]['notes'])\n",
    "        temp.append(rCNRA.json()['result']['results'][i]['metadata_created'])\n",
    "        CNRAdata.append(temp)\n",
    "    CNRAdf = pd.DataFrame(CNRAdata, columns = ['title','name','notes','metadata_created']) \n",
    "    # print(CNRAdf.count())\n",
    "    # This prints results from data.ca.gov.\n",
    "    # Prints database's title, URL, description and date it was updated. This is\n",
    "    # what is displayed using search on the actual websites.\n",
    "    CAPortaldata = []\n",
    "    for i in range(0, maxCAData):\n",
    "        temp = []\n",
    "        temp.append(rCAPortal.json()['result']['results'][i]['title'])\n",
    "        temp.append(caOpenDataURL + \"dataset/\" + rCAPortal.json()['result']['results'][i]['name'])\n",
    "        temp.append(rCAPortal.json()['result']['results'][i]['notes'])\n",
    "        temp.append(rCAPortal.json()['result']['results'][i]['metadata_created'])\n",
    "        CAPortaldata.append(temp)\n",
    "    CAPortaldf = pd.DataFrame(CAPortaldata, columns = ['title','name','notes','metadata_created']) \n",
    "    # print(CAPortaldf.count())\n",
    "\n",
    "    return CNRAdf, CAPortaldf\n",
    "\n",
    "\n",
    "# print(rCNRA.json()['result']['results'][i]['title'])\n",
    "# print(cnraURL + \"dataset/\" + rCNRA.json()['result']['results'][i]['name'])\n",
    "# print(rCNRA.json()['result']['results'][i]['notes'])\n",
    "# print(rCNRA.json()['result']['results'][i]['metadata_created']+\"\\n\")\n",
    "\n",
    "# \tprint(rCAPortal.json()['result']['results'][i]['title'])\n",
    "# \tprint(caOpenDataURL + \"dataset/\" + rCAPortal.json()['result']['results'][i]['name'])\n",
    "# \tprint(rCAPortal.json()['result']['results'][i]['notes'])\n",
    "# \tprint(rCAPortal.json()['result']['results'][i]['metadata_created']+\"\\n\")"
   ]
  },
  {
   "cell_type": "code",
   "execution_count": 40,
   "metadata": {
    "ExecuteTime": {
     "end_time": "2020-08-25T19:56:20.102720Z",
     "start_time": "2020-08-25T19:56:18.671664Z"
    }
   },
   "outputs": [
    {
     "ename": "IndexError",
     "evalue": "list index out of range",
     "output_type": "error",
     "traceback": [
      "\u001b[0;31m---------------------------------------------------------------------------\u001b[0m",
      "\u001b[0;31mIndexError\u001b[0m                                Traceback (most recent call last)",
      "\u001b[0;32m<ipython-input-40-af613f0154fa>\u001b[0m in \u001b[0;36m<module>\u001b[0;34m\u001b[0m\n\u001b[0;32m----> 1\u001b[0;31m \u001b[0mok\u001b[0m\u001b[0;34m,\u001b[0m \u001b[0mrun\u001b[0m \u001b[0;34m=\u001b[0m \u001b[0msearchData\u001b[0m\u001b[0;34m(\u001b[0m\u001b[0;34m'Water'\u001b[0m\u001b[0;34m)\u001b[0m\u001b[0;34m\u001b[0m\u001b[0;34m\u001b[0m\u001b[0m\n\u001b[0m\u001b[1;32m      2\u001b[0m \u001b[0mok\u001b[0m\u001b[0;34m\u001b[0m\u001b[0;34m\u001b[0m\u001b[0m\n",
      "\u001b[0;32m<ipython-input-39-de390d57ed9d>\u001b[0m in \u001b[0;36msearchData\u001b[0;34m(searchTerm)\u001b[0m\n\u001b[1;32m     37\u001b[0m     \u001b[0;32mfor\u001b[0m \u001b[0mi\u001b[0m \u001b[0;32min\u001b[0m \u001b[0mrange\u001b[0m\u001b[0;34m(\u001b[0m\u001b[0;36m0\u001b[0m\u001b[0;34m,\u001b[0m \u001b[0mmaxCNRA\u001b[0m\u001b[0;34m)\u001b[0m\u001b[0;34m:\u001b[0m\u001b[0;34m\u001b[0m\u001b[0;34m\u001b[0m\u001b[0m\n\u001b[1;32m     38\u001b[0m         \u001b[0mtemp\u001b[0m \u001b[0;34m=\u001b[0m \u001b[0;34m[\u001b[0m\u001b[0;34m]\u001b[0m\u001b[0;34m\u001b[0m\u001b[0;34m\u001b[0m\u001b[0m\n\u001b[0;32m---> 39\u001b[0;31m         \u001b[0mtemp\u001b[0m\u001b[0;34m.\u001b[0m\u001b[0mappend\u001b[0m\u001b[0;34m(\u001b[0m\u001b[0mrCNRA\u001b[0m\u001b[0;34m.\u001b[0m\u001b[0mjson\u001b[0m\u001b[0;34m(\u001b[0m\u001b[0;34m)\u001b[0m\u001b[0;34m[\u001b[0m\u001b[0;34m'result'\u001b[0m\u001b[0;34m]\u001b[0m\u001b[0;34m[\u001b[0m\u001b[0;34m'results'\u001b[0m\u001b[0;34m]\u001b[0m\u001b[0;34m[\u001b[0m\u001b[0mi\u001b[0m\u001b[0;34m]\u001b[0m\u001b[0;34m[\u001b[0m\u001b[0;34m'title'\u001b[0m\u001b[0;34m]\u001b[0m\u001b[0;34m)\u001b[0m\u001b[0;34m\u001b[0m\u001b[0;34m\u001b[0m\u001b[0m\n\u001b[0m\u001b[1;32m     40\u001b[0m         \u001b[0mtemp\u001b[0m\u001b[0;34m.\u001b[0m\u001b[0mappend\u001b[0m\u001b[0;34m(\u001b[0m\u001b[0mcnraURL\u001b[0m \u001b[0;34m+\u001b[0m \u001b[0;34m\"dataset/\"\u001b[0m \u001b[0;34m+\u001b[0m \u001b[0mrCNRA\u001b[0m\u001b[0;34m.\u001b[0m\u001b[0mjson\u001b[0m\u001b[0;34m(\u001b[0m\u001b[0;34m)\u001b[0m\u001b[0;34m[\u001b[0m\u001b[0;34m'result'\u001b[0m\u001b[0;34m]\u001b[0m\u001b[0;34m[\u001b[0m\u001b[0;34m'results'\u001b[0m\u001b[0;34m]\u001b[0m\u001b[0;34m[\u001b[0m\u001b[0mi\u001b[0m\u001b[0;34m]\u001b[0m\u001b[0;34m[\u001b[0m\u001b[0;34m'name'\u001b[0m\u001b[0;34m]\u001b[0m\u001b[0;34m)\u001b[0m\u001b[0;34m\u001b[0m\u001b[0;34m\u001b[0m\u001b[0m\n\u001b[1;32m     41\u001b[0m         \u001b[0mtemp\u001b[0m\u001b[0;34m.\u001b[0m\u001b[0mappend\u001b[0m\u001b[0;34m(\u001b[0m\u001b[0mrCNRA\u001b[0m\u001b[0;34m.\u001b[0m\u001b[0mjson\u001b[0m\u001b[0;34m(\u001b[0m\u001b[0;34m)\u001b[0m\u001b[0;34m[\u001b[0m\u001b[0;34m'result'\u001b[0m\u001b[0;34m]\u001b[0m\u001b[0;34m[\u001b[0m\u001b[0;34m'results'\u001b[0m\u001b[0;34m]\u001b[0m\u001b[0;34m[\u001b[0m\u001b[0mi\u001b[0m\u001b[0;34m]\u001b[0m\u001b[0;34m[\u001b[0m\u001b[0;34m'notes'\u001b[0m\u001b[0;34m]\u001b[0m\u001b[0;34m)\u001b[0m\u001b[0;34m\u001b[0m\u001b[0;34m\u001b[0m\u001b[0m\n",
      "\u001b[0;31mIndexError\u001b[0m: list index out of range"
     ]
    }
   ],
   "source": [
    "ok, run = searchData('Water')\n",
    "ok"
   ]
  },
  {
   "cell_type": "code",
   "execution_count": 34,
   "metadata": {
    "ExecuteTime": {
     "end_time": "2020-08-25T19:54:54.456524Z",
     "start_time": "2020-08-25T19:54:54.449784Z"
    }
   },
   "outputs": [],
   "source": [
    "test = ok.where(ok.values==run.values).notna()\n",
    "test.to_csv('hi.csv')"
   ]
  },
  {
   "cell_type": "code",
   "execution_count": null,
   "metadata": {},
   "outputs": [],
   "source": []
  }
 ],
 "metadata": {
  "kernelspec": {
   "display_name": "Python 3",
   "language": "python",
   "name": "python3"
  },
  "language_info": {
   "codemirror_mode": {
    "name": "ipython",
    "version": 3
   },
   "file_extension": ".py",
   "mimetype": "text/x-python",
   "name": "python",
   "nbconvert_exporter": "python",
   "pygments_lexer": "ipython3",
   "version": "3.7.4"
  },
  "toc": {
   "base_numbering": 1,
   "nav_menu": {},
   "number_sections": true,
   "sideBar": true,
   "skip_h1_title": false,
   "title_cell": "Table of Contents",
   "title_sidebar": "Contents",
   "toc_cell": false,
   "toc_position": {},
   "toc_section_display": true,
   "toc_window_display": false
  },
  "varInspector": {
   "cols": {
    "lenName": 16,
    "lenType": 16,
    "lenVar": 40
   },
   "kernels_config": {
    "python": {
     "delete_cmd_postfix": "",
     "delete_cmd_prefix": "del ",
     "library": "var_list.py",
     "varRefreshCmd": "print(var_dic_list())"
    },
    "r": {
     "delete_cmd_postfix": ") ",
     "delete_cmd_prefix": "rm(",
     "library": "var_list.r",
     "varRefreshCmd": "cat(var_dic_list()) "
    }
   },
   "types_to_exclude": [
    "module",
    "function",
    "builtin_function_or_method",
    "instance",
    "_Feature"
   ],
   "window_display": false
  }
 },
 "nbformat": 4,
 "nbformat_minor": 2
}
