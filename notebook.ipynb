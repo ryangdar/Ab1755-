{
 "cells": [
  {
   "cell_type": "code",
   "execution_count": 1,
   "metadata": {
    "ExecuteTime": {
     "end_time": "2020-08-21T21:57:36.965151Z",
     "start_time": "2020-08-21T21:57:36.688890Z"
    }
   },
   "outputs": [],
   "source": [
    "import json\n",
    "import requests\n",
    "import pandas as pd\n",
    "import numpy as np"
   ]
  },
  {
   "cell_type": "code",
   "execution_count": 2,
   "metadata": {
    "ExecuteTime": {
     "end_time": "2020-08-21T21:57:36.979476Z",
     "start_time": "2020-08-21T21:57:36.966980Z"
    }
   },
   "outputs": [],
   "source": [
    "# Use 'from searchData import searchData' in main()\n",
    "# Call by inputing a string\n",
    "def searchData(searchTerm):\n",
    "\n",
    "    # Websites we search.\n",
    "    cnraURL = \"https://data.cnra.ca.gov/\"\n",
    "    caOpenDataURL = \"https://data.ca.gov/\"\n",
    "    # Package search: this is what the default search is on both of the above sites.\n",
    "    pkgSearch = \"api/3/action/package_search?q=\"\n",
    "\n",
    "    # print(\"Please input a search term: \")\n",
    "    # Need to replace spaces with '+'\n",
    "    # searchTerm = input()\n",
    "    # searchTerm = searchTerm.replace(\" \", \"+\")\n",
    "    # print(searchTerm)\n",
    "    # searchTerm = str(searchTerm)\n",
    "    # Make request from API\n",
    "    rCNRA = requests.get(cnraURL + pkgSearch + searchTerm)\n",
    "    rCAPortal = requests.get(caOpenDataURL + pkgSearch + searchTerm)\n",
    "\n",
    "    if(rCNRA.json()['result']['count'] + rCAPortal.json()['result']['count'] == 0):\n",
    "        print(\"No datasets found for: \" + searchTerm)\n",
    "        print(\"Please try another search.\")\n",
    "        return\n",
    "\n",
    "    maxCNRA = 10 # Want to print 10 or less results.\n",
    "    if(rCNRA.json()['result']['count'] < maxCNRA):\n",
    "        maxCNRA = rCNRA.json()['result']['count']\n",
    "    maxCAData = 10 # Want to print 10 or less results.\n",
    "    if(rCAPortal.json()['result']['count'] < maxCAData):\n",
    "        maxCAData = rCAPortal.json()['result']['count']\n",
    "\n",
    "    # This prints results from data.cnra.ca.gov.\n",
    "    # Prints database's title, URL, description and date it was updated. This is\n",
    "    # what is displayed using search on the actual websites.\n",
    "    CNRAdata = []\n",
    "    for i in range(0, maxCNRA):\n",
    "        temp = []\n",
    "        temp.append(rCNRA.json()['result']['results'][i]['title'])\n",
    "        temp.append(cnraURL + \"dataset/\" + rCNRA.json()['result']['results'][i]['name'])\n",
    "        temp.append(rCNRA.json()['result']['results'][i]['notes'])\n",
    "        temp.append(rCNRA.json()['result']['results'][i]['metadata_created'])\n",
    "        CNRAdata.append(temp)\n",
    "    CNRAdf = pd.DataFrame(CNRAdata, columns = ['title','name','notes','metadata_created']) \n",
    "    # print(CNRAdf.count())\n",
    "    # This prints results from data.ca.gov.\n",
    "    # Prints database's title, URL, description and date it was updated. This is\n",
    "    # what is displayed using search on the actual websites.\n",
    "    CAPortaldata = []\n",
    "    for i in range(0, maxCAData):\n",
    "        temp = []\n",
    "        temp.append(rCAPortal.json()['result']['results'][i]['title'])\n",
    "        temp.append(caOpenDataURL + \"dataset/\" + rCAPortal.json()['result']['results'][i]['name'])\n",
    "        temp.append(rCAPortal.json()['result']['results'][i]['notes'])\n",
    "        temp.append(rCAPortal.json()['result']['results'][i]['metadata_created'])\n",
    "        CAPortaldata.append(temp)\n",
    "    CAPortaldf = pd.DataFrame(CAPortaldata, columns = ['title','name','notes','metadata_created']) \n",
    "    # print(CAPortaldf.count())\n",
    "\n",
    "    return CNRAdf, CAPortaldf\n",
    "\n",
    "\n",
    "# print(rCNRA.json()['result']['results'][i]['title'])\n",
    "# print(cnraURL + \"dataset/\" + rCNRA.json()['result']['results'][i]['name'])\n",
    "# print(rCNRA.json()['result']['results'][i]['notes'])\n",
    "# print(rCNRA.json()['result']['results'][i]['metadata_created']+\"\\n\")\n",
    "\n",
    "# \tprint(rCAPortal.json()['result']['results'][i]['title'])\n",
    "# \tprint(caOpenDataURL + \"dataset/\" + rCAPortal.json()['result']['results'][i]['name'])\n",
    "# \tprint(rCAPortal.json()['result']['results'][i]['notes'])\n",
    "# \tprint(rCAPortal.json()['result']['results'][i]['metadata_created']+\"\\n\")"
   ]
  },
  {
   "cell_type": "code",
   "execution_count": 8,
   "metadata": {
    "ExecuteTime": {
     "end_time": "2020-08-21T23:53:43.229535Z",
     "start_time": "2020-08-21T23:53:42.005400Z"
    }
   },
   "outputs": [],
   "source": [
    "ok, run = searchData('Water')\n",
    "ok.to_html(\"what.html\")"
   ]
  },
  {
   "cell_type": "code",
   "execution_count": null,
   "metadata": {},
   "outputs": [],
   "source": []
  }
 ],
 "metadata": {
  "kernelspec": {
   "display_name": "Python 3",
   "language": "python",
   "name": "python3"
  },
  "language_info": {
   "codemirror_mode": {
    "name": "ipython",
    "version": 3
   },
   "file_extension": ".py",
   "mimetype": "text/x-python",
   "name": "python",
   "nbconvert_exporter": "python",
   "pygments_lexer": "ipython3",
   "version": "3.7.4"
  },
  "toc": {
   "base_numbering": 1,
   "nav_menu": {},
   "number_sections": true,
   "sideBar": true,
   "skip_h1_title": false,
   "title_cell": "Table of Contents",
   "title_sidebar": "Contents",
   "toc_cell": false,
   "toc_position": {},
   "toc_section_display": true,
   "toc_window_display": false
  },
  "varInspector": {
   "cols": {
    "lenName": 16,
    "lenType": 16,
    "lenVar": 40
   },
   "kernels_config": {
    "python": {
     "delete_cmd_postfix": "",
     "delete_cmd_prefix": "del ",
     "library": "var_list.py",
     "varRefreshCmd": "print(var_dic_list())"
    },
    "r": {
     "delete_cmd_postfix": ") ",
     "delete_cmd_prefix": "rm(",
     "library": "var_list.r",
     "varRefreshCmd": "cat(var_dic_list()) "
    }
   },
   "types_to_exclude": [
    "module",
    "function",
    "builtin_function_or_method",
    "instance",
    "_Feature"
   ],
   "window_display": false
  }
 },
 "nbformat": 4,
 "nbformat_minor": 2
}
